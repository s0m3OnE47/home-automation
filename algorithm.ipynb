{
 "cells": [
  {
   "cell_type": "markdown",
   "metadata": {},
   "source": [
    "# Home Automation Project"
   ]
  },
  {
   "cell_type": "markdown",
   "metadata": {},
   "source": [
    "## Lights\n",
    "\n",
    "The intensity of lights is dependent on the daylight.\n",
    "The lights would get turned OFF gradually before sunrise, and they would get turned ON gradually before sunset."
   ]
  },
  {
   "cell_type": "code",
   "execution_count": 19,
   "metadata": {},
   "outputs": [
    {
     "name": "stdout",
     "output_type": "stream",
     "text": [
      "Information for Costa Mesa/USA\n",
      "Timezone: America/Los_Angeles\n",
      "Latitude: 33.69; Longitude: -117.88\n",
      "\n"
     ]
    }
   ],
   "source": [
    "from astral import LocationInfo\n",
    "import pytz\n",
    "from astral.geocoder import database, lookup\n",
    "\n",
    "# Set up location information\n",
    "tz_IND = pytz.timezone('Asia/Kolkata')\n",
    "tz_LA = pytz.timezone('America/Los_Angeles')\n",
    "# city = LocationInfo(\"Pune\", \"India\", \"Asia/Kolkata\", 18.493255, 73.827113)\n",
    "city = LocationInfo(\"Costa Mesa\", \"USA\", \"America/Los_Angeles\", 33.692572, -117.878945)\n",
    "# time_zone = lookup(\"Mumbai\", database()).timezone\n",
    "time_zone = lookup(\"Los_Angeles\", database()).timezone\n",
    "# tz = tz_IND\n",
    "tz = tz_LA\n",
    "\n",
    "# Define time_zone variable\n",
    "time_zone = None\n",
    "\n",
    "# Display location information\n",
    "print((\n",
    "    f\"Information for {city.name}/{city.region}\\n\"\n",
    "    f\"Timezone: {city.timezone}\\n\"\n",
    "    f\"Latitude: {city.latitude:.02f}; Longitude: {city.longitude:.02f}\\n\"\n",
    "))"
   ]
  },
  {
   "cell_type": "markdown",
   "metadata": {},
   "source": [
    "## Philips Hue"
   ]
  },
  {
   "cell_type": "code",
   "execution_count": 20,
   "metadata": {},
   "outputs": [
    {
     "name": "stdout",
     "output_type": "stream",
     "text": [
      "Sunrise: 06:02:10.884531\n",
      "Sunset:  19:53:21.900155\n",
      "\n",
      "Time to sunset: 23:39:47.977455\n",
      "Time to sunrise: 9:48:36.961831\n",
      "\n",
      "Light IDs =  ['12', '13', '14']\n"
     ]
    }
   ],
   "source": [
    "# Get sunrise and sunset information\n",
    "from astral.sun import sun\n",
    "s = sun(city.observer, tzinfo=time_zone)\n",
    "print((\n",
    "    f'Sunrise: {s[\"sunrise\"].time()}\\n'\n",
    "    f'Sunset:  {s[\"sunset\"].time()}\\n'\n",
    "))\n",
    "sunrise = s['sunrise'].time()\n",
    "sunset = s['sunset'].time()\n",
    "\n",
    "# Get current time\n",
    "from datetime import datetime\n",
    "now = datetime.now(tz)\n",
    "# print(f'Current time: {now.time()}')\n",
    "\n",
    "# Get time remaining for sunset and sunrise, and set intensity of light accordingly\n",
    "from datetime import datetime, date, timedelta\n",
    "one_hour = timedelta(hours=1)\n",
    "one_minute = timedelta(minutes=1)\n",
    "zero_seconds = timedelta(seconds=0)\n",
    "\n",
    "# Define brightness variable\n",
    "brightness = 254\n",
    "\n",
    "# Time to sunset\n",
    "time_to_sunset = datetime.combine(date.today(), sunset) - datetime.combine(date.today(), now.time())\n",
    "if time_to_sunset < one_hour and time_to_sunset > zero_seconds: # Less than 1 hr remaining for sunset\n",
    "    # Calculate brightness of light in range 0-254\n",
    "    brightness = ((one_hour - time_to_sunset)/one_minute)*254/60\n",
    "    print(f'Brightness: {brightness}')\n",
    "else:\n",
    "    # Print time to sunset\n",
    "    if time_to_sunset < zero_seconds:\n",
    "        time_to_sunset = datetime.combine((date.today()+timedelta(days=1)), sunset) - datetime.combine(date.today(), now.time())\n",
    "    print(f'Time to sunset: {time_to_sunset}')\n",
    "\n",
    "# Time to sunrise\n",
    "time_to_sunrise = datetime.combine(date.today(), sunrise) - datetime.combine(date.today(), now.time())\n",
    "if time_to_sunrise < one_hour and time_to_sunrise > zero_seconds: # Less than 1 hr remaining for sunrise\n",
    "    # Calculate brightness of light in range 0-254\n",
    "    brightness = (time_to_sunrise/one_minute)*254/60\n",
    "    print(f'Brightness: {brightness}')\n",
    "else:\n",
    "    # Print time to sunrise\n",
    "    if time_to_sunrise < zero_seconds:\n",
    "        time_to_sunrise = datetime.combine((date.today()+timedelta(days=1)), sunrise) - datetime.combine(date.today(), now.time())\n",
    "    print(f'Time to sunrise: {time_to_sunrise}\\n')\n",
    "\n",
    "import json\n",
    "import requests\n",
    "import urllib3\n",
    "urllib3.disable_warnings()\n",
    "hue_bridge_ip = '192.168.50.234'\n",
    "user = 'kYezkr7YNGozEVSHkfneoHx3gO44ff8Ns0Qn9eKi'\n",
    "url = 'https://'+hue_bridge_ip+'/api/'+user+'/lights'\n",
    "\n",
    "# Get light status\n",
    "response = requests.get(url, verify=False)\n",
    "# print(\"Response code = \",response.status_code)\n",
    "data = json.loads(response.text)    # Convert json data to python dictionary\n",
    "# print(json.dumps(data, indent=4))   # Pretty print json data\n",
    "light_id = list(data.keys())        # Get the light ids\n",
    "# print(\"Light IDs = \", light_id)\n",
    "\n",
    "# Get the hue of the input color name\n",
    "from colour import Color\n",
    "user_color = input(\"Enter color name: \")\n",
    "color = Color(user_color)\n",
    "# Get hue, saturation\n",
    "sat = color.saturation\n",
    "hue = color.hue\n",
    "hue = int(hue*65535) # Hue is in range 0-1, convert it to 0-65535\n",
    "sat = int(sat*254)  # Saturation is in range 0-1, convert it to 0-254\n",
    "\n",
    "# Set the light state to ON\n",
    "# loop through all lights\n",
    "for light in light_id:\n",
    "    url = 'https://'+hue_bridge_ip+'/api/'+user+'/lights/'+light+'/state'\n",
    "    # print(url)\n",
    "    headers = {\n",
    "        'content-type': \"application/json\",\n",
    "        'cache-control': \"no-cache\"\n",
    "    }\n",
    "    data ={'on': True, 'sat': sat, 'bri': brightness, 'hue': hue}\n",
    "    response = requests.put(url, headers=headers, data=json.dumps(data), verify=False)\n",
    "    # print(response.status_code)\n",
    "    # Display json data\n",
    "    # data = json.loads(response.text)\n",
    "    # print(json.dumps(data, indent=4))   # Pretty print json data"
   ]
  },
  {
   "cell_type": "markdown",
   "metadata": {},
   "source": [
    "### Motion detected lights\n",
    "\n",
    "There would be a LED light strip for each room which would light up subtlely and will be triggered by motion.\n",
    "\n",
    "1. Routines:\n",
    "    * If time is more than sunset and less than sunrise, then trigger lights that leads to the bathroom. These lights would be on the floor level.\n",
    "    * A device (proxi sensor) to keep track of number of people in the house and in the room.\n",
    "    "
   ]
  },
  {
   "cell_type": "markdown",
   "metadata": {},
   "source": [
    "## Camera\n",
    "\n",
    "This would keep track of number of people in the house.\n"
   ]
  },
  {
   "cell_type": "markdown",
   "metadata": {},
   "source": [
    "## House AI\n",
    "\n",
    "It would be updated with the number of people in the house, and in which room they are in. \n",
    "\n",
    "There would be microphones/with camera in each room listening to the commands And sending them to the central server.\n",
    "\n",
    "The facial recognition will update number of persons in each room. (no facial recognition (for now)).\n",
    "\n",
    "The voice would not have a recognition system (for now)\n",
    "\n"
   ]
  }
 ],
 "metadata": {
  "kernelspec": {
   "display_name": "Python 3",
   "language": "python",
   "name": "python3"
  },
  "language_info": {
   "codemirror_mode": {
    "name": "ipython",
    "version": 3
   },
   "file_extension": ".py",
   "mimetype": "text/x-python",
   "name": "python",
   "nbconvert_exporter": "python",
   "pygments_lexer": "ipython3",
   "version": "3.9.6"
  }
 },
 "nbformat": 4,
 "nbformat_minor": 2
}
